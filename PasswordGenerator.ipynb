{
  "nbformat": 4,
  "nbformat_minor": 0,
  "metadata": {
    "colab": {
      "provenance": []
    },
    "kernelspec": {
      "name": "python3",
      "display_name": "Python 3"
    },
    "language_info": {
      "name": "python"
    }
  },
  "cells": [
    {
      "cell_type": "code",
      "execution_count": 2,
      "metadata": {
        "colab": {
          "base_uri": "https://localhost:8080/"
        },
        "id": "QsBP_6PS1P3G",
        "outputId": "8c35715f-085e-4f4e-adad-1b3055a5676f"
      },
      "outputs": [
        {
          "output_type": "stream",
          "name": "stdout",
          "text": [
            "Enter the length of the password: Findingshru17\n",
            "Invalid input. Please enter valid values.\n"
          ]
        }
      ],
      "source": [
        "\n",
        "import random\n",
        "import string\n",
        "\n",
        "def generate_password(length, include_uppercase, include_numbers, include_special):\n",
        "    characters = string.ascii_lowercase\n",
        "    if include_uppercase:\n",
        "        characters += string.ascii_uppercase\n",
        "    if include_numbers:\n",
        "        characters += string.digits\n",
        "    if include_special:\n",
        "        characters += string.punctuation\n",
        "\n",
        "    password = ''.join(random.choice(characters) for _ in range(length))\n",
        "    return password\n",
        "\n",
        "def get_user_input():\n",
        "    try:\n",
        "        length = int(input(\"Enter the length of the password: \"))\n",
        "        include_uppercase = input(\"Include uppercase letters? (yes/no): \").lower() == 'yes'\n",
        "        include_numbers = input(\"Include numbers? (yes/no): \").lower() == 'yes'\n",
        "        include_special = input(\"Include special characters? (yes/no): \").lower() == 'yes'\n",
        "\n",
        "        password = generate_password(length, include_uppercase, include_numbers, include_special)\n",
        "        print(\"Generated password:\", password)\n",
        "    except ValueError:\n",
        "        print(\"Invalid input. Please enter valid values.\")\n",
        "\n",
        "if __name__ == \"__main__\":\n",
        "    get_user_input()\n",
        "\n",
        "\n"
      ]
    }
  ]
}